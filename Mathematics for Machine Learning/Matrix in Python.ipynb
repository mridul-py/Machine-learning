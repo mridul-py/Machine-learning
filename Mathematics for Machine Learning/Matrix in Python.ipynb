{
 "cells": [
  {
   "cell_type": "code",
   "execution_count": 1,
   "id": "c6b8b058-cf16-47fb-a942-5a76830054f0",
   "metadata": {},
   "outputs": [],
   "source": [
    "import numpy as np\n",
    "P=np.array([[1,7],[2,1],[3,4]])\n",
    "Q=np.array([[1,7],[2,1],[3,4]])"
   ]
  },
  {
   "cell_type": "code",
   "execution_count": 2,
   "id": "a8e1e29d-a5c4-4ef1-b1e7-19a0a6027b61",
   "metadata": {},
   "outputs": [
    {
     "data": {
      "text/plain": [
       "array([[ 2, 14],\n",
       "       [ 4,  2],\n",
       "       [ 6,  8]])"
      ]
     },
     "execution_count": 2,
     "metadata": {},
     "output_type": "execute_result"
    }
   ],
   "source": [
    "np.add(P,Q)"
   ]
  },
  {
   "cell_type": "code",
   "execution_count": 3,
   "id": "ba4df2f4-5f2d-4f37-9b3a-a718d79761c4",
   "metadata": {},
   "outputs": [
    {
     "data": {
      "text/plain": [
       "array([[0, 0],\n",
       "       [0, 0],\n",
       "       [0, 0]])"
      ]
     },
     "execution_count": 3,
     "metadata": {},
     "output_type": "execute_result"
    }
   ],
   "source": [
    "np.subtract(P,Q)"
   ]
  },
  {
   "cell_type": "code",
   "execution_count": 4,
   "id": "06208aa6-5f7d-43fb-aa1f-5ced943bf57a",
   "metadata": {},
   "outputs": [],
   "source": [
    "r=np.array([[1,7,5],[2,1,6]])"
   ]
  },
  {
   "cell_type": "code",
   "execution_count": 6,
   "id": "339c2726-5be6-43b2-8344-dc7f4b86f82a",
   "metadata": {},
   "outputs": [],
   "source": [
    " c= np.dot(P,r)"
   ]
  },
  {
   "cell_type": "code",
   "execution_count": 7,
   "id": "d30974fc-17a2-4f57-93d7-518a0f8e484b",
   "metadata": {},
   "outputs": [
    {
     "name": "stdout",
     "output_type": "stream",
     "text": [
      "[[15 14 47]\n",
      " [ 4 15 16]\n",
      " [11 25 39]]\n"
     ]
    }
   ],
   "source": [
    "print(c)"
   ]
  },
  {
   "cell_type": "code",
   "execution_count": 8,
   "id": "466d3da6-a60a-4b4a-a226-fcfc48a36bfd",
   "metadata": {},
   "outputs": [
    {
     "data": {
      "text/plain": [
       "4.630074101896776e-13"
      ]
     },
     "execution_count": 8,
     "metadata": {},
     "output_type": "execute_result"
    }
   ],
   "source": [
    "np.linalg.det(c)"
   ]
  },
  {
   "cell_type": "code",
   "execution_count": 9,
   "id": "e6e9028d-9d98-4b61-96e5-7ffe3d913b48",
   "metadata": {},
   "outputs": [
    {
     "data": {
      "text/plain": [
       "array([[ 3.99561640e+14,  1.35850957e+15, -1.03886026e+15],\n",
       "       [ 4.31958529e+13,  1.46865900e+14, -1.12309218e+14],\n",
       "       [-1.40386522e+14, -4.77314175e+14,  3.65004957e+14]])"
      ]
     },
     "execution_count": 9,
     "metadata": {},
     "output_type": "execute_result"
    }
   ],
   "source": [
    "np.linalg.inv(c)"
   ]
  },
  {
   "cell_type": "code",
   "execution_count": null,
   "id": "dd6e3688-61db-4fdb-a283-05c5e9e877a3",
   "metadata": {},
   "outputs": [],
   "source": []
  }
 ],
 "metadata": {
  "kernelspec": {
   "display_name": "Python 3 (ipykernel)",
   "language": "python",
   "name": "python3"
  },
  "language_info": {
   "codemirror_mode": {
    "name": "ipython",
    "version": 3
   },
   "file_extension": ".py",
   "mimetype": "text/x-python",
   "name": "python",
   "nbconvert_exporter": "python",
   "pygments_lexer": "ipython3",
   "version": "3.12.4"
  }
 },
 "nbformat": 4,
 "nbformat_minor": 5
}
