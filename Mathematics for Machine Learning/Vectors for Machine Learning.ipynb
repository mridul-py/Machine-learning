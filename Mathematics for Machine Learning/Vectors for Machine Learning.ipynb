{
 "cells": [
  {
   "cell_type": "code",
   "execution_count": 1,
   "id": "a9229afa-6822-41de-94e5-677f8f8d58d0",
   "metadata": {},
   "outputs": [],
   "source": [
    "import numpy as np\n"
   ]
  },
  {
   "cell_type": "markdown",
   "id": "8f65c264-9581-433c-9052-25e54bf2f56a",
   "metadata": {},
   "source": [
    "# Initializing Vectors"
   ]
  },
  {
   "cell_type": "code",
   "execution_count": null,
   "id": "afab8389-2961-4db0-8797-cb7b828cdbc2",
   "metadata": {},
   "outputs": [],
   "source": [
    "v=np.array([1,-1,2])\n",
    "w=np.array([2,5,2])\n"
   ]
  },
  {
   "cell_type": "markdown",
   "id": "f7cfacac-2902-4c64-a576-e7df971bb2c1",
   "metadata": {},
   "source": [
    "# Vector ADDITION"
   ]
  },
  {
   "cell_type": "code",
   "execution_count": 8,
   "id": "3f4d0482-a452-477a-8a6f-6828ad709f83",
   "metadata": {},
   "outputs": [
    {
     "data": {
      "text/plain": [
       "array([3, 4, 4])"
      ]
     },
     "execution_count": 8,
     "metadata": {},
     "output_type": "execute_result"
    }
   ],
   "source": [
    "v+w"
   ]
  },
  {
   "cell_type": "markdown",
   "id": "cf32e172-b58c-4405-ad5f-11da9b44bb9a",
   "metadata": {},
   "source": [
    "# Vector Subtraction"
   ]
  },
  {
   "cell_type": "code",
   "execution_count": 4,
   "id": "d70e1473-76e1-4e62-9357-71f1f76752da",
   "metadata": {},
   "outputs": [
    {
     "data": {
      "text/plain": [
       "array([-1, -6,  0])"
      ]
     },
     "execution_count": 4,
     "metadata": {},
     "output_type": "execute_result"
    }
   ],
   "source": [
    "v-w"
   ]
  },
  {
   "cell_type": "markdown",
   "id": "44b80418-d269-4a4f-b0af-fa93d8c930b1",
   "metadata": {},
   "source": [
    "# Scaler Multiplication"
   ]
  },
  {
   "cell_type": "code",
   "execution_count": 5,
   "id": "89a427df-1895-444a-badf-9b81f772faca",
   "metadata": {},
   "outputs": [
    {
     "data": {
      "text/plain": [
       "array([ 3, -3,  6])"
      ]
     },
     "execution_count": 5,
     "metadata": {},
     "output_type": "execute_result"
    }
   ],
   "source": [
    "v*3"
   ]
  },
  {
   "cell_type": "markdown",
   "id": "57b65a9f-f212-4751-aeeb-23dffec9f1ee",
   "metadata": {},
   "source": [
    "# Finding Length of Vectors"
   ]
  },
  {
   "cell_type": "code",
   "execution_count": 6,
   "id": "d59cfef1-3130-48ae-a7d0-1a8435dbdc9a",
   "metadata": {},
   "outputs": [
    {
     "data": {
      "text/plain": [
       "2.449489742783178"
      ]
     },
     "execution_count": 6,
     "metadata": {},
     "output_type": "execute_result"
    }
   ],
   "source": [
    "np.linalg.norm(v)"
   ]
  },
  {
   "cell_type": "markdown",
   "id": "cea1a2d9-9206-4eb7-ac6c-f24f14090c2d",
   "metadata": {},
   "source": [
    "# Dot Product of two vectors"
   ]
  },
  {
   "cell_type": "code",
   "execution_count": 7,
   "id": "5ceea219-73fc-460d-a66d-74e99b855a2b",
   "metadata": {},
   "outputs": [
    {
     "data": {
      "text/plain": [
       "1"
      ]
     },
     "execution_count": 7,
     "metadata": {},
     "output_type": "execute_result"
    }
   ],
   "source": [
    "np.dot(v,w)"
   ]
  }
 ],
 "metadata": {
  "kernelspec": {
   "display_name": "Python 3 (ipykernel)",
   "language": "python",
   "name": "python3"
  },
  "language_info": {
   "codemirror_mode": {
    "name": "ipython",
    "version": 3
   },
   "file_extension": ".py",
   "mimetype": "text/x-python",
   "name": "python",
   "nbconvert_exporter": "python",
   "pygments_lexer": "ipython3",
   "version": "3.12.4"
  }
 },
 "nbformat": 4,
 "nbformat_minor": 5
}
